{
 "cells": [
  {
   "cell_type": "code",
   "execution_count": 4,
   "metadata": {},
   "outputs": [],
   "source": [
    "import pandas as pd\n",
    "import numpy as np\n",
    "import matplotlib.pyplot as plt"
   ]
  },
  {
   "cell_type": "code",
   "execution_count": 2,
   "metadata": {},
   "outputs": [],
   "source": [
    "df=pd.read_csv(\"Project/marina_complete.csv\").iloc[:-1,:]"
   ]
  },
  {
   "cell_type": "code",
   "execution_count": 3,
   "metadata": {},
   "outputs": [],
   "source": [
    "rata=[]\n",
    "min=[]\n",
    "max=[]\n",
    "for i in range(0, len(df[\"ds\"]), 24):\n",
    "    rata.append([df[\"ds\"].iloc[i].split(\"T\")[0], np.mean(df[\"y\"].iloc[i:i+24].values)])\n",
    "    min.append([df[\"ds\"].iloc[i].split(\"T\")[0], np.min(df[\"y\"].iloc[i:i+24].values)])\n",
    "    max.append([df[\"ds\"].iloc[i].split(\"T\")[0], np.max(df[\"y\"].iloc[i:i+24].values)])"
   ]
  },
  {
   "cell_type": "code",
   "execution_count": 38,
   "metadata": {},
   "outputs": [],
   "source": [
    "pd.DataFrame(rata, columns=[\"Tanggal\", \"Rataan Ketinggian Air Laut\"]).to_csv(\"Harian/Rata Harian.csv\")\n",
    "pd.DataFrame(min, columns=[\"Tanggal\", \"Minimum Ketinggian Air Laut\"]).to_csv(\"Harian/Min Harian.csv\")\n",
    "pd.DataFrame(max, columns=[\"Tanggal\", \"Maksimum Ketinggian Air Laut\"]).to_csv(\"Harian/Max Harian.csv\")"
   ]
  }
 ],
 "metadata": {
  "kernelspec": {
   "display_name": "Python 3",
   "language": "python",
   "name": "python3"
  },
  "language_info": {
   "codemirror_mode": {
    "name": "ipython",
    "version": 3
   },
   "file_extension": ".py",
   "mimetype": "text/x-python",
   "name": "python",
   "nbconvert_exporter": "python",
   "pygments_lexer": "ipython3",
   "version": "3.11.6"
  }
 },
 "nbformat": 4,
 "nbformat_minor": 2
}
